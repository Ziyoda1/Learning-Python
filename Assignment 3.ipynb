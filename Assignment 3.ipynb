{
 "cells": [
  {
   "cell_type": "code",
   "execution_count": 11,
   "metadata": {},
   "outputs": [
    {
     "name": "stdout",
     "output_type": "stream",
     "text": [
      "Hey! How old are you in solar years?\n",
      "23\n",
      "How tall are you in cm?\n",
      "160\n",
      "How much do you weigh in kg?\n",
      "46\n",
      "So, you're 23 years old, 160 cm tall and 46 kg heavy.\n"
     ]
    }
   ],
   "source": [
    "print(\"Hey! How old are you in solar years?\")\n",
    "age = input()\n",
    "print(\"How tall are you in cm?\")\n",
    "height = input()\n",
    "print(\"How much do you weigh in kg?\")\n",
    "weight = input()\n",
    "\n",
    "print(f\"So, you're {age} years old, {height} cm tall and {weight} kg heavy.\")"
   ]
  },
  {
   "cell_type": "code",
   "execution_count": 12,
   "metadata": {},
   "outputs": [
    {
     "name": "stdout",
     "output_type": "stream",
     "text": [
      "Hey! How old are you in solar years? 23\n",
      "How tall are you in cm? 160\n",
      "How much do you weigh in kg? 46\n",
      "So, you're 23 years old, 160 cm tall and 46 kg heavy.\n"
     ]
    }
   ],
   "source": [
    "print(\"Hey! How old are you in solar years?\", end=' ')\n",
    "age = input()\n",
    "print(\"How tall are you in cm?\", end=' ')\n",
    "height = input()\n",
    "print(\"How much do you weigh in kg?\", end=' ')\n",
    "weight = input()\n",
    "\n",
    "print(f\"So, you're {age} years old, {height} cm tall and {weight} kg heavy.\")"
   ]
  },
  {
   "cell_type": "code",
   "execution_count": 13,
   "metadata": {},
   "outputs": [
    {
     "name": "stdout",
     "output_type": "stream",
     "text": [
      "what is your name? Ziyoda\n",
      "how old are you? 23\n",
      "introduce yourself! Ok\n"
     ]
    }
   ],
   "source": [
    "name = input (\"what is your name?\")\n",
    "age = input (\"how old are you?\")\n",
    "myself = input(\"introduce yourself!\")\n",
    "\n",
    "\n",
    "\n"
   ]
  },
  {
   "cell_type": "code",
   "execution_count": 14,
   "metadata": {},
   "outputs": [
    {
     "name": "stdout",
     "output_type": "stream",
     "text": [
      "Whatever I type here will show on the screen! hello\n",
      " hello\n"
     ]
    }
   ],
   "source": [
    "a = input(\"Whatever I type here will show on the screen!\")\n",
    "print(a)"
   ]
  }
 ],
 "metadata": {
  "kernelspec": {
   "display_name": "Python 3",
   "language": "python",
   "name": "python3"
  },
  "language_info": {
   "codemirror_mode": {
    "name": "ipython",
    "version": 3
   },
   "file_extension": ".py",
   "mimetype": "text/x-python",
   "name": "python",
   "nbconvert_exporter": "python",
   "pygments_lexer": "ipython3",
   "version": "3.8.5"
  }
 },
 "nbformat": 4,
 "nbformat_minor": 4
}
