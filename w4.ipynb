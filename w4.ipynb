{
 "cells": [
  {
   "cell_type": "code",
   "execution_count": 2,
   "metadata": {},
   "outputs": [
    {
     "name": "stdout",
     "output_type": "stream",
     "text": [
      "Please enter your name:admin\n",
      "error\n",
      "error\n",
      "error\n",
      "error\n",
      "error\n"
     ]
    }
   ],
   "source": [
    "usernames = {'Lily', 'John', 'Joe', 'Bob', 'admin' }\n",
    "\n",
    "a = input('Please enter your name:')\n",
    "for names in usernames:\n",
    "    if a in usernames and a != 'admin':\n",
    "        print(f'Hello {a} nice to see you here!')\n",
    "        break\n",
    "    elif a != 'admin':\n",
    "        print(f'Hello {a}, would you like to see a status report?')\n",
    "        break\n",
    "    else:\n",
    "        print('error')"
   ]
  },
  {
   "cell_type": "code",
   "execution_count": 6,
   "metadata": {
    "scrolled": false
   },
   "outputs": [
    {
     "name": "stdout",
     "output_type": "stream",
     "text": [
      "Please enter your name:Admin\n",
      "Hello Admin, would you like to see a status report?\n"
     ]
    }
   ],
   "source": [
    "usernames = ['Lily', 'John', 'Joe', 'Bob', 'Admin' ]\n",
    "\n",
    "a = input('Please enter your name:')\n",
    "for names in usernames:\n",
    "    if a in usernames and a != 'Admin':\n",
    "        print(f'Hello {a} nice to see you here!')\n",
    "        break\n",
    "    elif a == 'Admin':\n",
    "        print(f'Hello {a}, would you like to see a status report?')\n",
    "        break\n",
    "    else:\n",
    "        print('error')"
   ]
  },
  {
   "cell_type": "code",
   "execution_count": 1,
   "metadata": {},
   "outputs": [
    {
     "name": "stdout",
     "output_type": "stream",
     "text": [
      "Please enter your name:John\n",
      "Hello John nice to see you here!\n"
     ]
    }
   ],
   "source": [
    "usernames = ['Lily', 'John', 'Joe', 'Bob', 'Admin' ]\n",
    "\n",
    "a = input('Please enter your name:')\n",
    "for names in usernames:\n",
    "    if a in usernames and a != 'Admin':\n",
    "        print(f'Hello {a} nice to see you here!')\n",
    "        break\n",
    "    elif a == 'Admin':\n",
    "        print(f'Hello {a}, would you like to see a status report?')\n",
    "        break\n",
    "    else:\n",
    "        print('error')"
   ]
  },
  {
   "cell_type": "code",
   "execution_count": 7,
   "metadata": {},
   "outputs": [
    {
     "name": "stdout",
     "output_type": "stream",
     "text": [
      "This username, Lily, is taken\n",
      "This username, John, is taken\n",
      "Feel free to use Jessica\n",
      "Feel free to use Travis\n",
      "Feel free to use Kylie\n"
     ]
    }
   ],
   "source": [
    "current_users = ['Lily', 'John', 'Joe', 'Bob', 'Admin' ]\n",
    "new_users = ['Lily', 'John', 'Jessica', 'Travis', 'Kylie']\n",
    "\n",
    "guest = [user.lower() for user in current_users]\n",
    "for new in new_users:\n",
    "    if new.lower() in guest:\n",
    "        print(\"This username, \" + new + \", is taken\")\n",
    "    else:\n",
    "        print(\"Feel free to use \" + new)"
   ]
  },
  {
   "cell_type": "code",
   "execution_count": 1,
   "metadata": {},
   "outputs": [
    {
     "name": "stdout",
     "output_type": "stream",
     "text": [
      "I am thinking of a number between 1 and 20.\n",
      "Take a guess.\n",
      "6\n",
      "Your guess is too high.\n",
      "Take a guess.\n",
      "5\n",
      "Your guess is too high.\n",
      "Take a guess.\n",
      "4\n",
      "Your guess is too high.\n",
      "Take a guess.\n",
      "3\n",
      "Your guess is too high.\n",
      "Take a guess.\n",
      "2\n",
      "Your guess is too high.\n",
      "Take a guess.\n",
      "1\n",
      "Good job! You guessed my number in 6guesses!\n"
     ]
    }
   ],
   "source": [
    "# This is a guess the number game.\n",
    "import random\n",
    "secretNumber = random.randint(1, 20)\n",
    "print('I am thinking of a number between 1 and 20.')\n",
    "\n",
    "# Ask the player to guess 6 times.\n",
    "for guessesTaken in range(1, 7):\n",
    "    print('Take a guess.')\n",
    "    guess = int(input())\n",
    "\n",
    "    if guess < secretNumber:\n",
    "        print('Your guess is too low.')\n",
    "    elif guess > secretNumber:\n",
    "        print('Your guess is too high.')\n",
    "    else:\n",
    "        break    # This condition is the correct guess!\n",
    "\n",
    "if guess == secretNumber:\n",
    "    print('Good job! You guessed my number in ' + str(guessesTaken) + 'guesses!')\n",
    "else:\n",
    "    print('Nope. The number I was thinking of was ' + str(secretNumber))"
   ]
  },
  {
   "cell_type": "code",
   "execution_count": null,
   "metadata": {},
   "outputs": [],
   "source": []
  }
 ],
 "metadata": {
  "kernelspec": {
   "display_name": "Python 3",
   "language": "python",
   "name": "python3"
  },
  "language_info": {
   "codemirror_mode": {
    "name": "ipython",
    "version": 3
   },
   "file_extension": ".py",
   "mimetype": "text/x-python",
   "name": "python",
   "nbconvert_exporter": "python",
   "pygments_lexer": "ipython3",
   "version": "3.8.5"
  }
 },
 "nbformat": 4,
 "nbformat_minor": 4
}
